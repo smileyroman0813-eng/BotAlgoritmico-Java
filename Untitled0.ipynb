{
  "nbformat": 4,
  "nbformat_minor": 0,
  "metadata": {
    "colab": {
      "provenance": [],
      "authorship_tag": "ABX9TyOxJSG/QtUibB6rvbNNzVNi",
      "include_colab_link": true
    },
    "kernelspec": {
      "name": "python3",
      "display_name": "Python 3"
    },
    "language_info": {
      "name": "python"
    }
  },
  "cells": [
    {
      "cell_type": "markdown",
      "metadata": {
        "id": "view-in-github",
        "colab_type": "text"
      },
      "source": [
        "<a href=\"https://colab.research.google.com/github/smileyroman0813-eng/BotAlgoritmico-Java/blob/main/Untitled0.ipynb\" target=\"_parent\"><img src=\"https://colab.research.google.com/assets/colab-badge.svg\" alt=\"Open In Colab\"/></a>"
      ]
    },
    {
      "cell_type": "code",
      "execution_count": null,
      "metadata": {
        "id": "7F8FUo6zE1sn"
      },
      "outputs": [],
      "source": [
        "# 🤖 Proyecto Final - Bot Algorítmico Inteligente\n",
        "**Integración:** ChatGPT | Google Colab | GitHub | Java\n",
        "**Autor:** Miguel Román\n",
        "**Objetivo:** Automatizar la creación de algoritmos a partir de enunciados en lenguaje natural.\n"
      ]
    }
  ]
}