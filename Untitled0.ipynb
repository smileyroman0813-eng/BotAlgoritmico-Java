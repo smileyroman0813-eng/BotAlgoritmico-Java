{
  "nbformat": 4,
  "nbformat_minor": 0,
  "metadata": {
    "colab": {
      "provenance": [],
      "authorship_tag": "ABX9TyNMVpy1TiDXqWYoA7rHnCck",
      "include_colab_link": true
    },
    "kernelspec": {
      "name": "python3",
      "display_name": "Python 3"
    },
    "language_info": {
      "name": "python"
    }
  },
  "cells": [
    {
      "cell_type": "markdown",
      "metadata": {
        "id": "view-in-github",
        "colab_type": "text"
      },
      "source": [
        "<a href=\"https://colab.research.google.com/github/smileyroman0813-eng/BotAlgoritmico-Java/blob/main/Untitled0.ipynb\" target=\"_parent\"><img src=\"https://colab.research.google.com/assets/colab-badge.svg\" alt=\"Open In Colab\"/></a>"
      ]
    },
    {
      "cell_type": "code",
      "source": [
        "package bot;\n",
        "import java.util.Scanner;\n",
        "\n",
        "public class BotAlgoritmico {\n",
        "    public static void main(String[] args) {\n",
        "        Scanner sc = new Scanner(System.in);\n",
        "        System.out.println(\"=== BOT ALGORÍTMICO ===\");\n",
        "        System.out.print(\"Ingrese el enunciado del problema: \");\n",
        "        String enunciado = sc.nextLine();\n",
        "\n",
        "        Analizador analizador = new Analizador();\n",
        "        String tipo = analizador.detectarTipo(enunciado);\n",
        "\n",
        "        GeneradorEtapas ge = new GeneradorEtapas();\n",
        "        ge.mostrarEtapas(tipo);\n",
        "\n",
        "        GeneradorPseudocodigo gp = new GeneradorPseudocodigo();\n",
        "        System.out.println(\"\\n--- PSEUDOCÓDIGO ---\\n\" + gp.generar(tipo));\n",
        "\n",
        "        GeneradorCodigo gc = new GeneradorCodigo();\n",
        "        System.out.println(\"\\n--- CÓDIGO JAVA ---\\n\" + gc.generar(tipo));\n",
        "    }\n",
        "}\n"
      ],
      "metadata": {
        "colab": {
          "base_uri": "https://localhost:8080/",
          "height": 106
        },
        "id": "LbJLHpkoHFd7",
        "outputId": "295c9684-ba93-4152-e9b8-7e5a873e3d48"
      },
      "execution_count": 2,
      "outputs": [
        {
          "output_type": "error",
          "ename": "SyntaxError",
          "evalue": "invalid syntax (ipython-input-4224739356.py, line 1)",
          "traceback": [
            "\u001b[0;36m  File \u001b[0;32m\"/tmp/ipython-input-4224739356.py\"\u001b[0;36m, line \u001b[0;32m1\u001b[0m\n\u001b[0;31m    package bot;\u001b[0m\n\u001b[0m            ^\u001b[0m\n\u001b[0;31mSyntaxError\u001b[0m\u001b[0;31m:\u001b[0m invalid syntax\n"
          ]
        }
      ]
    }
  ]
}