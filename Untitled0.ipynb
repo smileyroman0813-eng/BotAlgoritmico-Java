{
  "nbformat": 4,
  "nbformat_minor": 0,
  "metadata": {
    "colab": {
      "provenance": [],
      "authorship_tag": "ABX9TyOEMYRVlIT8GohFHfoesT4q",
      "include_colab_link": true
    },
    "kernelspec": {
      "name": "python3",
      "display_name": "Python 3"
    },
    "language_info": {
      "name": "python"
    }
  },
  "cells": [
    {
      "cell_type": "markdown",
      "metadata": {
        "id": "view-in-github",
        "colab_type": "text"
      },
      "source": [
        "<a href=\"https://colab.research.google.com/github/smileyroman0813-eng/BotAlgoritmico-Java/blob/main/Untitled0.ipynb\" target=\"_parent\"><img src=\"https://colab.research.google.com/assets/colab-badge.svg\" alt=\"Open In Colab\"/></a>"
      ]
    },
    {
      "cell_type": "code",
      "source": [
        "%%writefile Analizador.java\n",
        "public class Analizador {\n",
        "    public String detectarTipo(String enunciado) {\n",
        "        enunciado = enunciado.toLowerCase();\n",
        "        if (enunciado.contains(\"suma\") || enunciado.contains(\"sumar\")) {\n",
        "            return \"suma\";\n",
        "        } else if (enunciado.contains(\"mayor\") || enunciado.contains(\"máximo\")) {\n",
        "            return \"maximo\";\n",
        "        } else if (enunciado.contains(\"promedio\")) {\n",
        "            return \"promedio\";\n",
        "        } else if (enunciado.contains(\"factorial\")) {\n",
        "            return \"factorial\";\n",
        "        } else {\n",
        "            return \"generico\";\n",
        "        }\n",
        "    }\n",
        "}\n"
      ],
      "metadata": {
        "colab": {
          "base_uri": "https://localhost:8080/"
        },
        "id": "jBS23u1tIwxD",
        "outputId": "f54091a1-aeda-404e-93b1-a154042e3ca7"
      },
      "execution_count": 3,
      "outputs": [
        {
          "output_type": "stream",
          "name": "stdout",
          "text": [
            "Writing Analizador.java\n"
          ]
        }
      ]
    },
    {
      "cell_type": "code",
      "source": [
        "%%writefile GeneradorCodigo.java\n",
        "public class GeneradorCodigo {\n",
        "    public String generar(String tipo) {\n",
        "        switch (tipo) {\n",
        "            case \"suma\":\n",
        "                return \"import java.util.Scanner;\\n\" +\n",
        "                       \"public class Suma {\\n\" +\n",
        "                       \"  public static void main(String[] args) {\\n\" +\n",
        "                       \"    Scanner sc = new Scanner(System.in);\\n\" +\n",
        "                       \"    System.out.print(\\\"Ingrese a: \\\");\\n\" +\n",
        "                       \"    int a = sc.nextInt();\\n\" +\n",
        "                       \"    System.out.print(\\\"Ingrese b: \\\");\\n\" +\n",
        "                       \"    int b = sc.nextInt();\\n\" +\n",
        "                       \"    System.out.println(\\\"La suma es: \\\" + (a+b));\\n\" +\n",
        "                       \"  }\\n\" +\n",
        "                       \"}\";\n",
        "            default:\n",
        "                return \"public class Generico { public static void main(String[] args) { System.out.println(\\\"Problema genérico\\\"); } }\";\n",
        "        }\n",
        "    }\n",
        "}\n"
      ],
      "metadata": {
        "colab": {
          "base_uri": "https://localhost:8080/"
        },
        "id": "rAI9Z4xAIxh7",
        "outputId": "ac49a469-1dfe-4578-e3f8-a80ebf3c3c07"
      },
      "execution_count": 4,
      "outputs": [
        {
          "output_type": "stream",
          "name": "stdout",
          "text": [
            "Writing GeneradorCodigo.java\n"
          ]
        }
      ]
    },
    {
      "cell_type": "code",
      "source": [
        "%%writefile BotAlgoritmico.java\n",
        "import java.util.Scanner;\n",
        "\n",
        "public class BotAlgoritmico {\n",
        "    public static void main(String[] args) {\n",
        "        Scanner sc = new Scanner(System.in);\n",
        "        System.out.println(\"=== BOT ALGORÍTMICO ===\");\n",
        "        System.out.print(\"Ingrese el enunciado del problema: \");\n",
        "        String enunciado = sc.nextLine();\n",
        "\n",
        "        Analizador analizador = new Analizador();\n",
        "        String tipo = analizador.detectarTipo(enunciado);\n",
        "        System.out.println(\"Tipo de problema detectado: \" + tipo);\n",
        "\n",
        "        GeneradorCodigo gc = new GeneradorCodigo();\n",
        "        System.out.println(\"\\n=== CÓDIGO GENERADO ===\");\n",
        "        System.out.println(gc.generar(tipo));\n",
        "    }\n",
        "}\n"
      ],
      "metadata": {
        "colab": {
          "base_uri": "https://localhost:8080/"
        },
        "id": "uuRF9pl4I0TL",
        "outputId": "a7bc93ea-c38a-4f77-8190-d68fa80dfe86"
      },
      "execution_count": 5,
      "outputs": [
        {
          "output_type": "stream",
          "name": "stdout",
          "text": [
            "Writing BotAlgoritmico.java\n"
          ]
        }
      ]
    },
    {
      "cell_type": "code",
      "source": [
        "!javac BotAlgoritmico.java Analizador.java GeneradorCodigo.java\n"
      ],
      "metadata": {
        "id": "Po-EQKRrI1_b"
      },
      "execution_count": 6,
      "outputs": []
    },
    {
      "cell_type": "code",
      "source": [
        "!java BotAlgoritmico\n"
      ],
      "metadata": {
        "colab": {
          "base_uri": "https://localhost:8080/"
        },
        "id": "B6metikRI3oT",
        "outputId": "43609e3a-db54-492d-f1cb-6c9ae7c65e3b"
      },
      "execution_count": 7,
      "outputs": [
        {
          "output_type": "stream",
          "name": "stdout",
          "text": [
            "=== BOT ALGORÍTMICO ===\n",
            "Ingrese el enunciado del problema: Calcular la suma de dos números ingresados por el usuario\n",
            "Tipo de problema detectado: suma\n",
            "\n",
            "=== CÓDIGO GENERADO ===\n",
            "import java.util.Scanner;\n",
            "public class Suma {\n",
            "  public static void main(String[] args) {\n",
            "    Scanner sc = new Scanner(System.in);\n",
            "    System.out.print(\"Ingrese a: \");\n",
            "    int a = sc.nextInt();\n",
            "    System.out.print(\"Ingrese b: \");\n",
            "    int b = sc.nextInt();\n",
            "    System.out.println(\"La suma es: \" + (a+b));\n",
            "  }\n",
            "}\n"
          ]
        }
      ]
    }
  ]
}